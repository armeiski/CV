{
 "cells": [
  {
   "cell_type": "code",
   "execution_count": 4,
   "metadata": {},
   "outputs": [
    {
     "data": {
      "text/plain": [
       "-1"
      ]
     },
     "execution_count": 4,
     "metadata": {},
     "output_type": "execute_result"
    }
   ],
   "source": [
    "import cv2\n",
    "import numpy as np\n",
    "import matplotlib.pyplot as plt\n",
    "\n",
    "def plot_dist(channel):\n",
    "    fig, ax = plt.subplots(figsize=(4, 3))\n",
    "    ax.hist(channel.ravel(), 25, [0,256])\n",
    "    \n",
    "    fig.canvas.draw()\n",
    "    dist = np.array(fig.canvas.renderer.buffer_rgba())\n",
    "    plt.close(fig) #Функция вывода стистики канала\n",
    "    \n",
    "    return dist\n",
    "\n",
    "cv2.namedWindow(\"frame\")\n",
    "\n",
    "def nothing(x):\n",
    "    pass\n",
    "\n",
    "cv2.createTrackbar('hs', 'frame', 256, 512, nothing)\n",
    "cv2.createTrackbar('ss', 'frame', 256, 512, nothing)\n",
    "cv2.createTrackbar('vs', 'frame', 256, 512, nothing) #Создание трекбаров\n",
    "\n",
    "video_path = \"unicycle.mp4\"\n",
    "cam = cv2.VideoCapture(video_path)\n",
    "\n",
    "while (True):\n",
    "    success, frame = cam.read()\n",
    "    \n",
    "    if(success == False):\n",
    "        cam.release()\n",
    "        cam = cv2.VideoCapture(video_path)  \n",
    "        \n",
    "        continue #Проверка взятия кадра из видео\n",
    "        \n",
    "    hsv_frame = cv2.cvtColor(frame, cv2.COLOR_BGR2HSV)\n",
    "\n",
    "    hs = cv2.getTrackbarPos('hs', 'frame')\n",
    "    ss = cv2.getTrackbarPos('ss', 'frame')\n",
    "    vs = cv2.getTrackbarPos('vs', 'frame') #Привязка трекбаров\n",
    "    \n",
    "    hsv_frame[:, :, 0] = cv2.add(hsv_frame[:, :, 0], hs - 256)\n",
    "    hsv_frame[:, :, 1] = cv2.add(hsv_frame[:, :, 1], ss - 256)\n",
    "    hsv_frame[:, :, 2] = cv2.add(hsv_frame[:, :, 2], vs - 256) #Изменение каналов с помощью трекбаров\n",
    "    \n",
    "    dist_0 = plot_dist(hsv_frame[::30, ::30, 0])\n",
    "    dist_1 = plot_dist(hsv_frame[::30, ::30, 1])\n",
    "    dist_2 = plot_dist(hsv_frame[::30, ::30, 2]) #Статистика по ограниченному количеству кадров картинки\n",
    "    \n",
    "    dists = np.concatenate((dist_0, dist_1, dist_2), axis=0) #Объединение статистик\n",
    "\n",
    "    cv2.imshow('frame', cv2.cvtColor(hsv_frame, cv2.COLOR_HSV2BGR)) \n",
    "    cv2.imshow('dist_0', dists)\n",
    "    \n",
    "    key = cv2.waitKey(100) & 0xFF\n",
    "    \n",
    "    if (key == ord('q')):\n",
    "        break\n",
    "\n",
    "cam.release()\n",
    "cv2.destroyAllWindows()\n",
    "cv2.waitKey(10)"
   ]
  },
  {
   "cell_type": "code",
   "execution_count": null,
   "metadata": {},
   "outputs": [],
   "source": []
  }
 ],
 "metadata": {
  "kernelspec": {
   "display_name": "yourenvname",
   "language": "python",
   "name": "python3"
  },
  "language_info": {
   "codemirror_mode": {
    "name": "ipython",
    "version": 3
   },
   "file_extension": ".py",
   "mimetype": "text/x-python",
   "name": "python",
   "nbconvert_exporter": "python",
   "pygments_lexer": "ipython3",
   "version": "3.11.8"
  }
 },
 "nbformat": 4,
 "nbformat_minor": 2
}
