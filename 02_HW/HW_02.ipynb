{
 "cells": [
  {
   "cell_type": "markdown",
   "metadata": {},
   "source": [
    "# Подсчет входящих людей"
   ]
  },
  {
   "cell_type": "code",
   "execution_count": 3,
   "metadata": {},
   "outputs": [
    {
     "name": "stdout",
     "output_type": "stream",
     "text": [
      "People total: 3\n"
     ]
    },
    {
     "data": {
      "text/plain": [
       "-1"
      ]
     },
     "execution_count": 3,
     "metadata": {},
     "output_type": "execute_result"
    }
   ],
   "source": [
    "import cv2\n",
    "import numpy as np\n",
    "\n",
    "video_path = \"people.mp4\"\n",
    "cam = cv2.VideoCapture(video_path)\n",
    "_, background = cam.read()\n",
    "background = cv2.cvtColor(background, cv2.COLOR_BGR2HSV)\n",
    "\n",
    "people_count = 0\n",
    "last_detection_time = 0\n",
    "cooldown_time = 5 # кулдаун на время вхождения одного человека\n",
    "frame_rate = cam.get(cv2.CAP_PROP_FPS)\n",
    "frames_cooldown = int(frame_rate * cooldown_time)\n",
    "\n",
    "while (True):\n",
    "    success, frame = cam.read()\n",
    "    \n",
    "    if(success == False):\n",
    "        cam.release()\n",
    "        cam = cv2.VideoCapture(video_path)  \n",
    "        continue\n",
    "    \n",
    "    hsv_frame = cv2.cvtColor(frame, cv2.COLOR_BGR2HSV)\n",
    "    \n",
    "    background = cv2.addWeighted(background, 0.97, hsv_frame, 0.03, 0)\n",
    "\n",
    "    diff = cv2.absdiff(hsv_frame, background)\n",
    "    foreground_mask = cv2.inRange(diff, (18, 8, 23), (184, 205, 211))\n",
    "    \n",
    "    kernel = np.ones((11, 11), np.uint8)\n",
    "    morph = cv2.morphologyEx(foreground_mask, cv2.MORPH_CLOSE, kernel)\n",
    "    \n",
    "    connectivity = 4 \n",
    "    output = cv2.connectedComponentsWithStats(morph, connectivity, cv2.CV_32S)\n",
    "\n",
    "    num_labels = output[0]\n",
    "    labels = output[1]\n",
    "    stats = output[2]\n",
    "    \n",
    "    filtered = np.zeros_like(morph)\n",
    "    detected = False\n",
    "    \n",
    "    for i in range(1, num_labels):\n",
    "        area = stats[i, cv2.CC_STAT_AREA]\n",
    "        top = stats[i, cv2.CC_STAT_TOP]\n",
    "        left = stats[i, cv2.CC_STAT_LEFT]\n",
    "        width = stats[i, cv2.CC_STAT_WIDTH]\n",
    "        height = stats[i, cv2.CC_STAT_HEIGHT]\n",
    "        \n",
    "        if (area >= 30000):\n",
    "            detected = True\n",
    "            filtered[np.where(labels == i)] = 255\n",
    "\n",
    "            cv2.rectangle(frame, (left, top), (left + width, top + height), (0, 255, 0), 2)\n",
    "            \n",
    "    current_time = cam.get(cv2.CAP_PROP_POS_FRAMES)\n",
    "    if detected and (current_time - last_detection_time > frames_cooldown):\n",
    "        people_count += 1\n",
    "        last_detection_time = current_time # После детекции человека срабатывает кулдаун\n",
    "        \n",
    "    cv2.putText(frame, f\"Count: {people_count}\", (100, 100), cv2.FONT_HERSHEY_TRIPLEX , 3, (0, 255, 0), 2)\n",
    "    \n",
    "    # cv2.imshow('frame', hsv_frame[:, :, 2])\n",
    "    # cv2.imshow('back', background[:, :, 2])\n",
    "    \n",
    "    # cv2.imshow('diff0', diff[:, :, 0])\n",
    "    # cv2.imshow('diff1', diff[:, :, 1])\n",
    "    # cv2.imshow('diff2', diff[:, :, 2])\n",
    "    \n",
    "    # cv2.imshow('for_mask', foreground_mask)\n",
    "    # cv2.imshow('morph', morph)\n",
    "    # cv2.imshow('mask_filtered', filtered)\n",
    "    \n",
    "    cv2.imshow('frame', frame)\n",
    "    \n",
    "    key = cv2.waitKey(10) & 0xFF\n",
    "    \n",
    "    if (key == ord('q')):\n",
    "        break\n",
    "\n",
    "print(f\"People total: {people_count}\")\n",
    "cam.release()\n",
    "cv2.destroyAllWindows()\n",
    "cv2.waitKey(10)"
   ]
  },
  {
   "cell_type": "markdown",
   "metadata": {},
   "source": [
    "# Я на фоне Breaking Bad"
   ]
  },
  {
   "cell_type": "markdown",
   "metadata": {},
   "source": [
    "## Тут использовал медиапайп, чтобы нормально себя выделить на видео"
   ]
  },
  {
   "cell_type": "code",
   "execution_count": 5,
   "metadata": {},
   "outputs": [],
   "source": [
    "import cv2\n",
    "import mediapipe as mp\n",
    "import numpy as np\n",
    "\n",
    "mp_selfie_segmentation = mp.solutions.selfie_segmentation\n",
    "segment = mp_selfie_segmentation.SelfieSegmentation(model_selection=1)\n",
    "\n",
    "im = cv2.imread('breaking bad.jpg')\n",
    "height, width, _ = im.shape\n",
    "\n",
    "video_path = \"me.mp4\"\n",
    "cam = cv2.VideoCapture(video_path)\n",
    "\n",
    "while True:\n",
    "    success, frame = cam.read()\n",
    "    if not success:\n",
    "        break\n",
    "    \n",
    "    frame_height, frame_width, _ = frame.shape\n",
    "    scale = min(width / frame_width / 2, height / frame_height / 2)\n",
    "    new_size = (int(frame_width * scale), int(frame_height * scale))\n",
    "    frame = cv2.resize(frame, new_size)\n",
    "\n",
    "    rgb_frame = cv2.cvtColor(frame, cv2.COLOR_BGR2RGB)\n",
    "    results = segment.process(rgb_frame)\n",
    "    mask = results.segmentation_mask\n",
    "    \n",
    "    mask = (mask > 0.6).astype(np.uint8) * 255\n",
    "    mask = cv2.GaussianBlur(mask, (5, 5), 0)\n",
    "\n",
    "    bg = np.zeros_like(im)\n",
    "\n",
    "    x_offset = (width - new_size[0]) // 2\n",
    "    y_offset = (height - new_size[1]) // 2\n",
    "\n",
    "    bg[y_offset:y_offset + new_size[1], x_offset:x_offset + new_size[0]] = frame\n",
    "\n",
    "    full_mask = np.zeros_like(im[:, :, 0])\n",
    "    full_mask[y_offset:y_offset + new_size[1], x_offset:x_offset + new_size[0]] = mask\n",
    "\n",
    "    mixed_clone = cv2.seamlessClone(bg, im, full_mask, (width // 2, height - 300), cv2.NORMAL_CLONE)\n",
    "    \n",
    "    cv2.imshow('mix', mixed_clone)\n",
    "    if cv2.waitKey(1) & 0xFF == ord('q'):\n",
    "        break\n",
    "\n",
    "cv2.destroyAllWindows()\n"
   ]
  }
 ],
 "metadata": {
  "kernelspec": {
   "display_name": "cv2env",
   "language": "python",
   "name": "python3"
  },
  "language_info": {
   "codemirror_mode": {
    "name": "ipython",
    "version": 3
   },
   "file_extension": ".py",
   "mimetype": "text/x-python",
   "name": "python",
   "nbconvert_exporter": "python",
   "pygments_lexer": "ipython3",
   "version": "3.12.8"
  }
 },
 "nbformat": 4,
 "nbformat_minor": 2
}
