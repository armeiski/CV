{
 "cells": [
  {
   "cell_type": "code",
   "execution_count": 1,
   "metadata": {},
   "outputs": [
    {
     "name": "stdout",
     "output_type": "stream",
     "text": [
      "Requirement already satisfied: opencv-python in c:\\users\\alexs\\anaconda3\\envs\\yourenvname\\lib\\site-packages (4.10.0.84)\n",
      "Requirement already satisfied: numpy in c:\\users\\alexs\\anaconda3\\envs\\yourenvname\\lib\\site-packages (1.23.5)\n",
      "Collecting numpy\n",
      "  Downloading numpy-2.1.2-cp311-cp311-win_amd64.whl.metadata (59 kB)\n",
      "Downloading numpy-2.1.2-cp311-cp311-win_amd64.whl (12.9 MB)\n",
      "   ---------------------------------------- 0.0/12.9 MB ? eta -:--:--\n",
      "   ---- ----------------------------------- 1.6/12.9 MB 8.4 MB/s eta 0:00:02\n",
      "   -------- ------------------------------- 2.6/12.9 MB 7.2 MB/s eta 0:00:02\n",
      "   ------------- -------------------------- 4.2/12.9 MB 7.4 MB/s eta 0:00:02\n",
      "   ------------------ --------------------- 6.0/12.9 MB 7.5 MB/s eta 0:00:01\n",
      "   ----------------------- ---------------- 7.6/12.9 MB 7.7 MB/s eta 0:00:01\n",
      "   ----------------------------- ---------- 9.4/12.9 MB 7.9 MB/s eta 0:00:01\n",
      "   ----------------------------------- ---- 11.3/12.9 MB 8.0 MB/s eta 0:00:01\n",
      "   ---------------------------------------- 12.9/12.9 MB 8.1 MB/s eta 0:00:00\n",
      "Installing collected packages: numpy\n",
      "  Attempting uninstall: numpy\n",
      "    Found existing installation: numpy 1.23.5\n",
      "    Uninstalling numpy-1.23.5:\n",
      "      Successfully uninstalled numpy-1.23.5\n",
      "Successfully installed numpy-1.26.4\n",
      "Note: you may need to restart the kernel to use updated packages.\n"
     ]
    },
    {
     "name": "stderr",
     "output_type": "stream",
     "text": [
      "ERROR: pip's dependency resolver does not currently take into account all the packages that are installed. This behaviour is the source of the following dependency conflicts.\n",
      "contourpy 1.2.0 requires numpy<2.0,>=1.20, but you have numpy 2.1.2 which is incompatible.\n",
      "deeppavlov 1.7.0 requires numpy<1.24, but you have numpy 2.1.2 which is incompatible.\n",
      "deeppavlov 1.7.0 requires tqdm<4.65.0,>=4.42.0, but you have tqdm 4.66.5 which is incompatible.\n",
      "evidently 0.4.16 requires uvicorn>=0.22.0, but you have uvicorn 0.18.3 which is incompatible.\n",
      "gradio 4.22.0 requires numpy~=1.0, but you have numpy 2.1.2 which is incompatible.\n",
      "gradio 4.22.0 requires pydantic>=2.0, but you have pydantic 1.10.18 which is incompatible.\n",
      "matplotlib 3.7.5 requires numpy<2,>=1.20, but you have numpy 2.1.2 which is incompatible.\n",
      "mlflow 2.11.3 requires numpy<2, but you have numpy 2.1.2 which is incompatible.\n",
      "numba 0.59.1 requires numpy<1.27,>=1.22, but you have numpy 2.1.2 which is incompatible.\n",
      "pyarrow 15.0.2 requires numpy<2,>=1.16.6, but you have numpy 2.1.2 which is incompatible.\n",
      "pycaret 3.3.0 requires numpy<1.27,>=1.21, but you have numpy 2.1.2 which is incompatible.\n",
      "pycaret 3.3.0 requires scikit-learn>1.4.0, but you have scikit-learn 1.4.0 which is incompatible.\n",
      "pywavelets 1.5.0 requires numpy<2.0,>=1.22.4, but you have numpy 2.1.2 which is incompatible.\n",
      "scikit-learn 1.4.0 requires numpy<2.0,>=1.19.5, but you have numpy 2.1.2 which is incompatible.\n",
      "scipy 1.10.0 requires numpy<1.27.0,>=1.19.5, but you have numpy 2.1.2 which is incompatible.\n",
      "sktime 0.27.0 requires numpy<1.27,>=1.21, but you have numpy 2.1.2 which is incompatible.\n",
      "statsmodels 0.14.1 requires numpy<2,>=1.18, but you have numpy 2.1.2 which is incompatible.\n",
      "trl 0.11.4 requires numpy<2; platform_system == \"Windows\", but you have numpy 2.1.2 which is incompatible.\n",
      "visions 0.7.6 requires pandas>=2.0.0, but you have pandas 1.5.3 which is incompatible.\n",
      "ydata-profiling 4.7.0 requires numpy<2,>=1.16.0, but you have numpy 2.1.2 which is incompatible.\n",
      "ydata-profiling 4.7.0 requires pydantic>=2, but you have pydantic 1.10.18 which is incompatible.\n",
      "\n",
      "[notice] A new release of pip is available: 24.2 -> 24.3.1\n",
      "[notice] To update, run: python.exe -m pip install --upgrade pip\n"
     ]
    }
   ],
   "source": [
    "pip install --upgrade opencv-python numpy"
   ]
  },
  {
   "cell_type": "code",
   "execution_count": 2,
   "metadata": {},
   "outputs": [],
   "source": [
    "import cv2\n",
    "import numpy as np"
   ]
  },
  {
   "cell_type": "code",
   "execution_count": 8,
   "metadata": {},
   "outputs": [],
   "source": [
    "import cv2\n",
    "import numpy as np\n",
    "\n",
    "cv2.namedWindow('small_mask')\n",
    "\n",
    "cv2.resizeWindow('small_mask', 1000, 1000)\n",
    "\n",
    "def nothing(x):\n",
    "    pass\n",
    "\n",
    "cv2.createTrackbar('lh', 'small_mask', 166, 255, nothing)\n",
    "cv2.createTrackbar('ls', 'small_mask', 80, 255, nothing)\n",
    "cv2.createTrackbar('lv', 'small_mask', 62, 255, nothing)\n",
    "cv2.createTrackbar('hh', 'small_mask', 202, 255, nothing)\n",
    "cv2.createTrackbar('hs', 'small_mask', 229, 255, nothing)\n",
    "cv2.createTrackbar('hv', 'small_mask', 200, 255, nothing)\n",
    "\n",
    "img = cv2.imread('images/img_0.jpg')\n",
    "\n",
    "hsv = cv2.cvtColor(img, cv2.COLOR_BGR2HSV)\n",
    "\n",
    "while True:\n",
    "    lh = cv2.getTrackbarPos('lh', 'small_mask')\n",
    "    ls = cv2.getTrackbarPos('ls', 'small_mask')\n",
    "    lv = cv2.getTrackbarPos('lv', 'small_mask')\n",
    "    hh = cv2.getTrackbarPos('hh', 'small_mask')\n",
    "    hs = cv2.getTrackbarPos('hs', 'small_mask')\n",
    "    hv = cv2.getTrackbarPos('hv', 'small_mask')\n",
    "\n",
    "    mask = cv2.inRange(hsv, (lh, ls, lv), (hh, hs, hv))\n",
    "\n",
    "    small_img = cv2.resize(img, (img.shape[1] // 4, img.shape[0] // 4))\n",
    "    small_mask = cv2.resize(mask, (mask.shape[1] // 4, mask.shape[0] // 4))\n",
    "\n",
    "    cv2.imshow('img', small_img)\n",
    "    cv2.imshow('mask', small_mask)\n",
    "\n",
    "    key = cv2.waitKey(80) & 0xFF\n",
    "    if key == ord('q'):\n",
    "        break\n",
    "\n",
    "cv2.destroyAllWindows()\n"
   ]
  },
  {
   "cell_type": "code",
   "execution_count": 31,
   "metadata": {},
   "outputs": [
    {
     "name": "stdout",
     "output_type": "stream",
     "text": [
      "Center coordinates of detected blob: (600, 1080)\n"
     ]
    },
    {
     "data": {
      "text/plain": [
       "-1"
      ]
     },
     "execution_count": 31,
     "metadata": {},
     "output_type": "execute_result"
    }
   ],
   "source": [
    "import cv2\n",
    "import numpy as np\n",
    "\n",
    "cv2.namedWindow('small_mask')\n",
    "\n",
    "cv2.resizeWindow('small_mask', 1000, 1000)\n",
    "\n",
    "img = cv2.imread('images/img_0.jpg')\n",
    "\n",
    "hsv = cv2.cvtColor(img, cv2.COLOR_BGR2HSV)\n",
    "\n",
    "mask = cv2.inRange(hsv, (166, 80, 62), (202, 229, 200))\n",
    "\n",
    "mask[:, -300:] = 0\n",
    "mask[:, :300] = 0\n",
    "\n",
    "\n",
    "connectivity = 4  \n",
    "\n",
    "output = cv2.connectedComponentsWithStats(mask, connectivity, cv2.CV_32S)\n",
    "\n",
    "num_labels = output[0]\n",
    "labels = output[1]\n",
    "stats = output[2]\n",
    "    \n",
    "filtered = np.zeros_like(mask)\n",
    "\n",
    "for i in range(1, num_labels):\n",
    "    a = stats[i, cv2.CC_STAT_AREA]\n",
    "    top = stats[i, cv2.CC_STAT_TOP]\n",
    "    left = stats[i, cv2.CC_STAT_LEFT]\n",
    "    width = stats[i, cv2.CC_STAT_WIDTH]\n",
    "    height = stats[i, cv2.CC_STAT_HEIGHT]\n",
    "    \n",
    "    if (a >= 1000 and width > 300):\n",
    "        filtered[np.where(labels == i)] = 255\n",
    "        \n",
    "        cv2.putText(img, str(a), (left, top), cv2.FONT_ITALIC, 1, (0, 0, 255), 2, cv2.LINE_4)\n",
    "        cv2.rectangle(img, (left, top), (left + width, top + height), (0, 0, 255), 4)\n",
    "\n",
    "center_x = left + width // 2\n",
    "center_y = top + height // 2\n",
    "\n",
    "print(f\"Center coordinates of detected blob: ({center_x}, {center_y})\")\n",
    "        \n",
    "small_img = cv2.resize(img, (img.shape[1] // 4, img.shape[0] // 4))\n",
    "small_mask = cv2.resize(mask, (mask.shape[1] // 4, mask.shape[0] // 4))\n",
    "\n",
    "cv2.imshow('mask', small_mask)\n",
    "cv2.imshow('img', small_img)\n",
    "\n",
    "cv2.waitKey(0)\n",
    "cv2.destroyAllWindows()\n",
    "cv2.waitKey(10)"
   ]
  },
  {
   "cell_type": "code",
   "execution_count": 30,
   "metadata": {},
   "outputs": [
    {
     "name": "stdout",
     "output_type": "stream",
     "text": [
      "Center coordinates of detected blob: (783, 936)\n"
     ]
    },
    {
     "data": {
      "text/plain": [
       "-1"
      ]
     },
     "execution_count": 30,
     "metadata": {},
     "output_type": "execute_result"
    }
   ],
   "source": [
    "import cv2\n",
    "import numpy as np\n",
    "\n",
    "cv2.namedWindow('small_mask')\n",
    "\n",
    "cv2.resizeWindow('small_mask', 1000, 1000)\n",
    "\n",
    "img = cv2.imread('images/img_5.jpg')\n",
    "\n",
    "hsv = cv2.cvtColor(img, cv2.COLOR_BGR2HSV)\n",
    "\n",
    "mask = cv2.inRange(hsv, (0, 1, 195), (181, 28, 214))\n",
    "\n",
    "mask[:, -300:] = 0\n",
    "mask[:, :300] = 0\n",
    "\n",
    "min_left = -5\n",
    "\n",
    "connectivity = 4  \n",
    "\n",
    "lowest_bottom = 5000\n",
    "lowest_component_index = -1\n",
    "\n",
    "output = cv2.connectedComponentsWithStats(mask, connectivity, cv2.CV_32S)\n",
    "\n",
    "num_labels = output[0]\n",
    "labels = output[1]\n",
    "stats = output[2]\n",
    "    \n",
    "filtered = np.zeros_like(mask)\n",
    "\n",
    "for i in range(1, num_labels):\n",
    "    a = stats[i, cv2.CC_STAT_AREA]\n",
    "    top = stats[i, cv2.CC_STAT_TOP]\n",
    "    left = stats[i, cv2.CC_STAT_LEFT]\n",
    "    width = stats[i, cv2.CC_STAT_WIDTH]\n",
    "    height = stats[i, cv2.CC_STAT_HEIGHT]\n",
    "    bottom = top + height\n",
    "    \n",
    "    \n",
    "    if (a >= 1500 and width > 300):\n",
    "        filtered[np.where(labels == i)] = 255\n",
    "        \n",
    "        if bottom < lowest_bottom:\n",
    "            lowest_bottom = bottom\n",
    "            lowest_component_index = i\n",
    "                    \n",
    "left = stats[lowest_component_index, cv2.CC_STAT_LEFT]\n",
    "top = stats[lowest_component_index, cv2.CC_STAT_TOP]\n",
    "width = stats[lowest_component_index, cv2.CC_STAT_WIDTH]\n",
    "height = stats[lowest_component_index, cv2.CC_STAT_HEIGHT]\n",
    "area = stats[lowest_component_index, cv2.CC_STAT_AREA]\n",
    "\n",
    "cv2.putText(img, str(area), (left, top), cv2.FONT_ITALIC, 1, (0, 0, 255), 2, cv2.LINE_4)\n",
    "cv2.rectangle(img, (left, top), (left + width, top + height), (0, 0, 255), 4)\n",
    "    \n",
    "\n",
    "center_x = left + width // 2\n",
    "center_y = top + height // 2\n",
    "\n",
    "print(f\"Center coordinates of detected blob: ({center_x}, {center_y})\")\n",
    "        \n",
    "small_img = cv2.resize(img, (img.shape[1] // 4, img.shape[0] // 4))\n",
    "small_mask = cv2.resize(mask, (mask.shape[1] // 4, mask.shape[0] // 4))\n",
    "\n",
    "cv2.imshow('mask', small_mask)\n",
    "cv2.imshow('img', small_img)\n",
    "\n",
    "cv2.waitKey(0)\n",
    "cv2.destroyAllWindows()\n",
    "cv2.waitKey(10)"
   ]
  }
 ],
 "metadata": {
  "kernelspec": {
   "display_name": "yourenvname",
   "language": "python",
   "name": "python3"
  },
  "language_info": {
   "codemirror_mode": {
    "name": "ipython",
    "version": 3
   },
   "file_extension": ".py",
   "mimetype": "text/x-python",
   "name": "python",
   "nbconvert_exporter": "python",
   "pygments_lexer": "ipython3",
   "version": "3.11.8"
  }
 },
 "nbformat": 4,
 "nbformat_minor": 2
}
