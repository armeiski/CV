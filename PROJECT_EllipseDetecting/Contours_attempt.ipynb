{
 "cells": [
  {
   "cell_type": "code",
   "execution_count": 25,
   "metadata": {},
   "outputs": [
    {
     "ename": "error",
     "evalue": "OpenCV(4.10.0) D:\\a\\opencv-python\\opencv-python\\opencv\\modules\\core\\src\\arithm.cpp:1876: error: (-209:Sizes of input arguments do not match) The lower boundary is neither an array of the same size and same type as src, nor a scalar in function 'cv::inRange'\n",
     "output_type": "error",
     "traceback": [
      "\u001b[1;31m---------------------------------------------------------------------------\u001b[0m",
      "\u001b[1;31merror\u001b[0m                                     Traceback (most recent call last)",
      "Cell \u001b[1;32mIn[25], line 18\u001b[0m\n\u001b[0;32m     15\u001b[0m gray \u001b[38;5;241m=\u001b[39m cv2\u001b[38;5;241m.\u001b[39mcvtColor(blurred, cv2\u001b[38;5;241m.\u001b[39mCOLOR_BGR2GRAY)\n\u001b[0;32m     16\u001b[0m edges \u001b[38;5;241m=\u001b[39m cv2\u001b[38;5;241m.\u001b[39mCanny(gray, \u001b[38;5;241m20\u001b[39m, \u001b[38;5;241m50\u001b[39m)\n\u001b[1;32m---> 18\u001b[0m mask \u001b[38;5;241m=\u001b[39m \u001b[43mcv2\u001b[49m\u001b[38;5;241;43m.\u001b[39;49m\u001b[43minRange\u001b[49m\u001b[43m(\u001b[49m\u001b[43medges\u001b[49m\u001b[43m,\u001b[49m\u001b[43m \u001b[49m\u001b[43m(\u001b[49m\u001b[38;5;241;43m37\u001b[39;49m\u001b[43m,\u001b[49m\u001b[43m \u001b[49m\u001b[38;5;241;43m75\u001b[39;49m\u001b[43m,\u001b[49m\u001b[43m \u001b[49m\u001b[38;5;241;43m0\u001b[39;49m\u001b[43m)\u001b[49m\u001b[43m,\u001b[49m\u001b[43m \u001b[49m\u001b[43m(\u001b[49m\u001b[38;5;241;43m255\u001b[39;49m\u001b[43m,\u001b[49m\u001b[43m \u001b[49m\u001b[38;5;241;43m255\u001b[39;49m\u001b[43m,\u001b[49m\u001b[43m \u001b[49m\u001b[38;5;241;43m255\u001b[39;49m\u001b[43m)\u001b[49m\u001b[43m)\u001b[49m\n\u001b[0;32m     19\u001b[0m mask \u001b[38;5;241m=\u001b[39m \u001b[38;5;241m255\u001b[39m \u001b[38;5;241m-\u001b[39m mask\n\u001b[0;32m     21\u001b[0m kernel \u001b[38;5;241m=\u001b[39m np\u001b[38;5;241m.\u001b[39mones((\u001b[38;5;241m5\u001b[39m, \u001b[38;5;241m5\u001b[39m), np\u001b[38;5;241m.\u001b[39muint8)\n",
      "\u001b[1;31merror\u001b[0m: OpenCV(4.10.0) D:\\a\\opencv-python\\opencv-python\\opencv\\modules\\core\\src\\arithm.cpp:1876: error: (-209:Sizes of input arguments do not match) The lower boundary is neither an array of the same size and same type as src, nor a scalar in function 'cv::inRange'\n"
     ]
    }
   ],
   "source": [
    "import numpy as np\n",
    "import cv2\n",
    "import matplotlib.pyplot as plt\n",
    "\n",
    "res_fac = 1\n",
    "win_const = 2\n",
    "\n",
    "img = cv2.imread('img/raw/2.png')\n",
    "h, w, _ = img.shape\n",
    "\n",
    "img_resized = cv2.resize(img, (w // res_fac, h // res_fac))\n",
    "blurred = cv2.GaussianBlur(img_resized, (9, 9), 2)\n",
    "hsv = cv2.cvtColor(blurred, cv2.COLOR_BGR2HSV)\n",
    "\n",
    "gray = cv2.cvtColor(blurred, cv2.COLOR_BGR2GRAY)\n",
    "edges = cv2.Canny(gray, 20, 50)\n",
    "\n",
    "mask = cv2.inRange(edges, (37, 75, 0), (255, 255, 255))\n",
    "mask = 255 - mask\n",
    "\n",
    "kernel = np.ones((5, 5), np.uint8)\n",
    "morph = cv2.morphologyEx(edges, cv2.MORPH_CLOSE, kernel)\n",
    "\n",
    "\n",
    "plt.imshow(cv2.cvtColor(morph, cv2.COLOR_BGR2RGB))\n",
    "plt.show()\n",
    "\n",
    "connectivity = 4\n",
    "output = cv2.connectedComponentsWithStats(morph, connectivity, cv2.CV_32S)\n",
    "\n",
    "num_labels = output[0]\n",
    "labels = output[1]\n",
    "stats = output[2]\n",
    "\n",
    "filtered = np.zeros_like(morph)\n",
    "\n",
    "for i in range(1, num_labels):\n",
    "    a = stats[i, cv2.CC_STAT_AREA]\n",
    "    top = stats[i, cv2.CC_STAT_TOP]\n",
    "    left = stats[i, cv2.CC_STAT_LEFT]\n",
    "    width = stats[i, cv2.CC_STAT_WIDTH]\n",
    "    height = stats[i, cv2.CC_STAT_HEIGHT]\n",
    "    \n",
    "    if (a > 1500):\n",
    "        filtered[np.where(labels == i)] = 255\n",
    "\n",
    "contours, _ = cv2.findContours(morph, cv2.RETR_TREE, cv2.CHAIN_APPROX_SIMPLE)\n",
    "\n",
    "contours_img = np.zeros_like(gray)\n"
   ]
  }
 ],
 "metadata": {
  "kernelspec": {
   "display_name": "yourenvname",
   "language": "python",
   "name": "python3"
  },
  "language_info": {
   "codemirror_mode": {
    "name": "ipython",
    "version": 3
   },
   "file_extension": ".py",
   "mimetype": "text/x-python",
   "name": "python",
   "nbconvert_exporter": "python",
   "pygments_lexer": "ipython3",
   "version": "3.11.8"
  }
 },
 "nbformat": 4,
 "nbformat_minor": 2
}
